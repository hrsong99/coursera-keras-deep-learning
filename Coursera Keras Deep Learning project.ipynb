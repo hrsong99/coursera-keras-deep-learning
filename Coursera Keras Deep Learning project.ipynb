{
    "cells": [
        {
            "cell_type": "markdown",
            "metadata": {},
            "source": "# Coursera Keras Deep Learning Project"
        },
        {
            "cell_type": "code",
            "execution_count": 1,
            "metadata": {},
            "outputs": [],
            "source": "import keras\nfrom keras.models import Sequential\nfrom keras.layers import Dense\n#from keras.utils import to_categorical\n\nimport pandas as pd\nimport numpy as np\nfrom sklearn.model_selection import train_test_split\nfrom sklearn.metrics import mean_squared_error\n\nimport statistics as st"
        },
        {
            "cell_type": "markdown",
            "metadata": {},
            "source": "## A. Build a baseline model"
        },
        {
            "cell_type": "code",
            "execution_count": 2,
            "metadata": {},
            "outputs": [
                {
                    "data": {
                        "text/html": "<div>\n<style scoped>\n    .dataframe tbody tr th:only-of-type {\n        vertical-align: middle;\n    }\n\n    .dataframe tbody tr th {\n        vertical-align: top;\n    }\n\n    .dataframe thead th {\n        text-align: right;\n    }\n</style>\n<table border=\"1\" class=\"dataframe\">\n  <thead>\n    <tr style=\"text-align: right;\">\n      <th></th>\n      <th>Cement</th>\n      <th>Blast Furnace Slag</th>\n      <th>Fly Ash</th>\n      <th>Water</th>\n      <th>Superplasticizer</th>\n      <th>Coarse Aggregate</th>\n      <th>Fine Aggregate</th>\n      <th>Age</th>\n      <th>Strength</th>\n    </tr>\n  </thead>\n  <tbody>\n    <tr>\n      <th>0</th>\n      <td>540.0</td>\n      <td>0.0</td>\n      <td>0.0</td>\n      <td>162.0</td>\n      <td>2.5</td>\n      <td>1040.0</td>\n      <td>676.0</td>\n      <td>28</td>\n      <td>79.99</td>\n    </tr>\n    <tr>\n      <th>1</th>\n      <td>540.0</td>\n      <td>0.0</td>\n      <td>0.0</td>\n      <td>162.0</td>\n      <td>2.5</td>\n      <td>1055.0</td>\n      <td>676.0</td>\n      <td>28</td>\n      <td>61.89</td>\n    </tr>\n    <tr>\n      <th>2</th>\n      <td>332.5</td>\n      <td>142.5</td>\n      <td>0.0</td>\n      <td>228.0</td>\n      <td>0.0</td>\n      <td>932.0</td>\n      <td>594.0</td>\n      <td>270</td>\n      <td>40.27</td>\n    </tr>\n    <tr>\n      <th>3</th>\n      <td>332.5</td>\n      <td>142.5</td>\n      <td>0.0</td>\n      <td>228.0</td>\n      <td>0.0</td>\n      <td>932.0</td>\n      <td>594.0</td>\n      <td>365</td>\n      <td>41.05</td>\n    </tr>\n    <tr>\n      <th>4</th>\n      <td>198.6</td>\n      <td>132.4</td>\n      <td>0.0</td>\n      <td>192.0</td>\n      <td>0.0</td>\n      <td>978.4</td>\n      <td>825.5</td>\n      <td>360</td>\n      <td>44.30</td>\n    </tr>\n  </tbody>\n</table>\n</div>",
                        "text/plain": "   Cement  Blast Furnace Slag  Fly Ash  Water  Superplasticizer  \\\n0   540.0                 0.0      0.0  162.0               2.5   \n1   540.0                 0.0      0.0  162.0               2.5   \n2   332.5               142.5      0.0  228.0               0.0   \n3   332.5               142.5      0.0  228.0               0.0   \n4   198.6               132.4      0.0  192.0               0.0   \n\n   Coarse Aggregate  Fine Aggregate  Age  Strength  \n0            1040.0           676.0   28     79.99  \n1            1055.0           676.0   28     61.89  \n2             932.0           594.0  270     40.27  \n3             932.0           594.0  365     41.05  \n4             978.4           825.5  360     44.30  "
                    },
                    "execution_count": 2,
                    "metadata": {},
                    "output_type": "execute_result"
                }
            ],
            "source": "from keras.datasets import mnist\n\n# read the data\nconcrete_data = pd.read_csv('https://s3-api.us-geo.objectstorage.softlayer.net/cf-courses-data/CognitiveClass/DL0101EN/labs/data/concrete_data.csv')\nconcrete_data.head()"
        },
        {
            "cell_type": "code",
            "execution_count": 3,
            "metadata": {},
            "outputs": [
                {
                    "data": {
                        "text/plain": "(1030, 9)"
                    },
                    "execution_count": 3,
                    "metadata": {},
                    "output_type": "execute_result"
                }
            ],
            "source": "concrete_data.shape"
        },
        {
            "cell_type": "code",
            "execution_count": 4,
            "metadata": {},
            "outputs": [
                {
                    "data": {
                        "text/html": "<div>\n<style scoped>\n    .dataframe tbody tr th:only-of-type {\n        vertical-align: middle;\n    }\n\n    .dataframe tbody tr th {\n        vertical-align: top;\n    }\n\n    .dataframe thead th {\n        text-align: right;\n    }\n</style>\n<table border=\"1\" class=\"dataframe\">\n  <thead>\n    <tr style=\"text-align: right;\">\n      <th></th>\n      <th>Cement</th>\n      <th>Blast Furnace Slag</th>\n      <th>Fly Ash</th>\n      <th>Water</th>\n      <th>Superplasticizer</th>\n      <th>Coarse Aggregate</th>\n      <th>Fine Aggregate</th>\n      <th>Age</th>\n      <th>Strength</th>\n    </tr>\n  </thead>\n  <tbody>\n    <tr>\n      <th>count</th>\n      <td>1030.000000</td>\n      <td>1030.000000</td>\n      <td>1030.000000</td>\n      <td>1030.000000</td>\n      <td>1030.000000</td>\n      <td>1030.000000</td>\n      <td>1030.000000</td>\n      <td>1030.000000</td>\n      <td>1030.000000</td>\n    </tr>\n    <tr>\n      <th>mean</th>\n      <td>281.167864</td>\n      <td>73.895825</td>\n      <td>54.188350</td>\n      <td>181.567282</td>\n      <td>6.204660</td>\n      <td>972.918932</td>\n      <td>773.580485</td>\n      <td>45.662136</td>\n      <td>35.817961</td>\n    </tr>\n    <tr>\n      <th>std</th>\n      <td>104.506364</td>\n      <td>86.279342</td>\n      <td>63.997004</td>\n      <td>21.354219</td>\n      <td>5.973841</td>\n      <td>77.753954</td>\n      <td>80.175980</td>\n      <td>63.169912</td>\n      <td>16.705742</td>\n    </tr>\n    <tr>\n      <th>min</th>\n      <td>102.000000</td>\n      <td>0.000000</td>\n      <td>0.000000</td>\n      <td>121.800000</td>\n      <td>0.000000</td>\n      <td>801.000000</td>\n      <td>594.000000</td>\n      <td>1.000000</td>\n      <td>2.330000</td>\n    </tr>\n    <tr>\n      <th>25%</th>\n      <td>192.375000</td>\n      <td>0.000000</td>\n      <td>0.000000</td>\n      <td>164.900000</td>\n      <td>0.000000</td>\n      <td>932.000000</td>\n      <td>730.950000</td>\n      <td>7.000000</td>\n      <td>23.710000</td>\n    </tr>\n    <tr>\n      <th>50%</th>\n      <td>272.900000</td>\n      <td>22.000000</td>\n      <td>0.000000</td>\n      <td>185.000000</td>\n      <td>6.400000</td>\n      <td>968.000000</td>\n      <td>779.500000</td>\n      <td>28.000000</td>\n      <td>34.445000</td>\n    </tr>\n    <tr>\n      <th>75%</th>\n      <td>350.000000</td>\n      <td>142.950000</td>\n      <td>118.300000</td>\n      <td>192.000000</td>\n      <td>10.200000</td>\n      <td>1029.400000</td>\n      <td>824.000000</td>\n      <td>56.000000</td>\n      <td>46.135000</td>\n    </tr>\n    <tr>\n      <th>max</th>\n      <td>540.000000</td>\n      <td>359.400000</td>\n      <td>200.100000</td>\n      <td>247.000000</td>\n      <td>32.200000</td>\n      <td>1145.000000</td>\n      <td>992.600000</td>\n      <td>365.000000</td>\n      <td>82.600000</td>\n    </tr>\n  </tbody>\n</table>\n</div>",
                        "text/plain": "            Cement  Blast Furnace Slag      Fly Ash        Water  \\\ncount  1030.000000         1030.000000  1030.000000  1030.000000   \nmean    281.167864           73.895825    54.188350   181.567282   \nstd     104.506364           86.279342    63.997004    21.354219   \nmin     102.000000            0.000000     0.000000   121.800000   \n25%     192.375000            0.000000     0.000000   164.900000   \n50%     272.900000           22.000000     0.000000   185.000000   \n75%     350.000000          142.950000   118.300000   192.000000   \nmax     540.000000          359.400000   200.100000   247.000000   \n\n       Superplasticizer  Coarse Aggregate  Fine Aggregate          Age  \\\ncount       1030.000000       1030.000000     1030.000000  1030.000000   \nmean           6.204660        972.918932      773.580485    45.662136   \nstd            5.973841         77.753954       80.175980    63.169912   \nmin            0.000000        801.000000      594.000000     1.000000   \n25%            0.000000        932.000000      730.950000     7.000000   \n50%            6.400000        968.000000      779.500000    28.000000   \n75%           10.200000       1029.400000      824.000000    56.000000   \nmax           32.200000       1145.000000      992.600000   365.000000   \n\n          Strength  \ncount  1030.000000  \nmean     35.817961  \nstd      16.705742  \nmin       2.330000  \n25%      23.710000  \n50%      34.445000  \n75%      46.135000  \nmax      82.600000  "
                    },
                    "execution_count": 4,
                    "metadata": {},
                    "output_type": "execute_result"
                }
            ],
            "source": "concrete_data.describe()"
        },
        {
            "cell_type": "code",
            "execution_count": 5,
            "metadata": {},
            "outputs": [
                {
                    "data": {
                        "text/plain": "Cement                0\nBlast Furnace Slag    0\nFly Ash               0\nWater                 0\nSuperplasticizer      0\nCoarse Aggregate      0\nFine Aggregate        0\nAge                   0\nStrength              0\ndtype: int64"
                    },
                    "execution_count": 5,
                    "metadata": {},
                    "output_type": "execute_result"
                }
            ],
            "source": "concrete_data.isnull().sum()"
        },
        {
            "cell_type": "code",
            "execution_count": 6,
            "metadata": {},
            "outputs": [
                {
                    "name": "stderr",
                    "output_type": "stream",
                    "text": "/opt/conda/envs/Python-3.9/lib/python3.9/site-packages/pandas/core/indexes/base.py:4616: FutureWarning: Using a non-tuple sequence for multidimensional indexing is deprecated; use `arr[tuple(seq)]` instead of `arr[seq]`. In the future this will be interpreted as an array index, `arr[np.array(seq)]`, which will result either in an error or a different result.\n  result = getitem(key)\n"
                },
                {
                    "data": {
                        "text/html": "<div>\n<style scoped>\n    .dataframe tbody tr th:only-of-type {\n        vertical-align: middle;\n    }\n\n    .dataframe tbody tr th {\n        vertical-align: top;\n    }\n\n    .dataframe thead th {\n        text-align: right;\n    }\n</style>\n<table border=\"1\" class=\"dataframe\">\n  <thead>\n    <tr style=\"text-align: right;\">\n      <th></th>\n      <th>Cement</th>\n      <th>Blast Furnace Slag</th>\n      <th>Fly Ash</th>\n      <th>Water</th>\n      <th>Superplasticizer</th>\n      <th>Coarse Aggregate</th>\n      <th>Fine Aggregate</th>\n      <th>Age</th>\n    </tr>\n  </thead>\n  <tbody>\n    <tr>\n      <th>0</th>\n      <td>540.0</td>\n      <td>0.0</td>\n      <td>0.0</td>\n      <td>162.0</td>\n      <td>2.5</td>\n      <td>1040.0</td>\n      <td>676.0</td>\n      <td>28</td>\n    </tr>\n    <tr>\n      <th>1</th>\n      <td>540.0</td>\n      <td>0.0</td>\n      <td>0.0</td>\n      <td>162.0</td>\n      <td>2.5</td>\n      <td>1055.0</td>\n      <td>676.0</td>\n      <td>28</td>\n    </tr>\n    <tr>\n      <th>2</th>\n      <td>332.5</td>\n      <td>142.5</td>\n      <td>0.0</td>\n      <td>228.0</td>\n      <td>0.0</td>\n      <td>932.0</td>\n      <td>594.0</td>\n      <td>270</td>\n    </tr>\n    <tr>\n      <th>3</th>\n      <td>332.5</td>\n      <td>142.5</td>\n      <td>0.0</td>\n      <td>228.0</td>\n      <td>0.0</td>\n      <td>932.0</td>\n      <td>594.0</td>\n      <td>365</td>\n    </tr>\n    <tr>\n      <th>4</th>\n      <td>198.6</td>\n      <td>132.4</td>\n      <td>0.0</td>\n      <td>192.0</td>\n      <td>0.0</td>\n      <td>978.4</td>\n      <td>825.5</td>\n      <td>360</td>\n    </tr>\n  </tbody>\n</table>\n</div>",
                        "text/plain": "   Cement  Blast Furnace Slag  Fly Ash  Water  Superplasticizer  \\\n0   540.0                 0.0      0.0  162.0               2.5   \n1   540.0                 0.0      0.0  162.0               2.5   \n2   332.5               142.5      0.0  228.0               0.0   \n3   332.5               142.5      0.0  228.0               0.0   \n4   198.6               132.4      0.0  192.0               0.0   \n\n   Coarse Aggregate  Fine Aggregate  Age  \n0            1040.0           676.0   28  \n1            1055.0           676.0   28  \n2             932.0           594.0  270  \n3             932.0           594.0  365  \n4             978.4           825.5  360  "
                    },
                    "execution_count": 6,
                    "metadata": {},
                    "output_type": "execute_result"
                }
            ],
            "source": "#separate concrete data into predictors (X) and target(y) data\nX = concrete_data[concrete_data.columns[[concrete_data.columns != \"Strength\"]]]\nX.head()"
        },
        {
            "cell_type": "code",
            "execution_count": 7,
            "metadata": {},
            "outputs": [
                {
                    "data": {
                        "text/plain": "0    79.99\n1    61.89\n2    40.27\n3    41.05\n4    44.30\nName: Strength, dtype: float64"
                    },
                    "execution_count": 7,
                    "metadata": {},
                    "output_type": "execute_result"
                }
            ],
            "source": "y = concrete_data[\"Strength\"]\ny.head()"
        },
        {
            "cell_type": "code",
            "execution_count": 22,
            "metadata": {},
            "outputs": [],
            "source": "# split training and testing data; make it a function so it is callable multiple times later\nX_train, X_test, y_train, y_test = train_test_split(X, y, test_size = 0.3, random_state = 4)\n\n# find number of columns for input shape in model\nn_col = len(X.columns)"
        },
        {
            "cell_type": "code",
            "execution_count": 38,
            "metadata": {},
            "outputs": [],
            "source": "# define the regression model\ndef regression_model(num_hidden_layer):\n    model = Sequential()\n    # take the number of hidden layers as input for part D\n    for n in range(num_hidden_layer):\n        model.add(Dense(10, activation='relu', input_shape=(n_col,)))\n    model.add(Dense(1))\n    \n    model.compile(optimizer='adam', loss='mean_squared_error')\n    return model"
        },
        {
            "cell_type": "code",
            "execution_count": 39,
            "metadata": {},
            "outputs": [
                {
                    "name": "stdout",
                    "output_type": "stream",
                    "text": "Epoch 1/50\n23/23 - 0s - loss: 195648.5156 - val_loss: 104604.8047 - 484ms/epoch - 21ms/step\nEpoch 2/50\n23/23 - 0s - loss: 58213.2383 - val_loss: 26051.8066 - 114ms/epoch - 5ms/step\nEpoch 3/50\n23/23 - 0s - loss: 15028.5010 - val_loss: 8764.0547 - 117ms/epoch - 5ms/step\nEpoch 4/50\n23/23 - 0s - loss: 7878.8965 - val_loss: 6857.0088 - 117ms/epoch - 5ms/step\nEpoch 5/50\n23/23 - 0s - loss: 7315.2227 - val_loss: 6523.3008 - 117ms/epoch - 5ms/step\nEpoch 6/50\n23/23 - 0s - loss: 7023.7803 - val_loss: 6263.3281 - 120ms/epoch - 5ms/step\nEpoch 7/50\n23/23 - 0s - loss: 6742.0479 - val_loss: 6008.0171 - 134ms/epoch - 6ms/step\nEpoch 8/50\n23/23 - 0s - loss: 6486.5181 - val_loss: 5791.9180 - 118ms/epoch - 5ms/step\nEpoch 9/50\n23/23 - 0s - loss: 6245.6963 - val_loss: 5562.7163 - 117ms/epoch - 5ms/step\nEpoch 10/50\n23/23 - 0s - loss: 6031.1416 - val_loss: 5329.5981 - 114ms/epoch - 5ms/step\nEpoch 11/50\n23/23 - 0s - loss: 5814.1562 - val_loss: 5159.3657 - 121ms/epoch - 5ms/step\nEpoch 12/50\n23/23 - 0s - loss: 5631.9980 - val_loss: 4972.9019 - 118ms/epoch - 5ms/step\nEpoch 13/50\n23/23 - 0s - loss: 5460.8540 - val_loss: 4803.3901 - 116ms/epoch - 5ms/step\nEpoch 14/50\n23/23 - 0s - loss: 5291.6479 - val_loss: 4659.3618 - 116ms/epoch - 5ms/step\nEpoch 15/50\n23/23 - 0s - loss: 5135.2158 - val_loss: 4512.0918 - 137ms/epoch - 6ms/step\nEpoch 16/50\n23/23 - 0s - loss: 4990.0952 - val_loss: 4373.2188 - 138ms/epoch - 6ms/step\nEpoch 17/50\n23/23 - 0s - loss: 4852.4722 - val_loss: 4220.2739 - 117ms/epoch - 5ms/step\nEpoch 18/50\n23/23 - 0s - loss: 4708.1401 - val_loss: 4119.9287 - 117ms/epoch - 5ms/step\nEpoch 19/50\n23/23 - 0s - loss: 4568.3271 - val_loss: 3977.5142 - 156ms/epoch - 7ms/step\nEpoch 20/50\n23/23 - 0s - loss: 4440.1108 - val_loss: 3859.2285 - 95ms/epoch - 4ms/step\nEpoch 21/50\n23/23 - 0s - loss: 4320.0474 - val_loss: 3754.9255 - 99ms/epoch - 4ms/step\nEpoch 22/50\n23/23 - 0s - loss: 4197.5654 - val_loss: 3663.4487 - 118ms/epoch - 5ms/step\nEpoch 23/50\n23/23 - 0s - loss: 4084.7366 - val_loss: 3541.8843 - 135ms/epoch - 6ms/step\nEpoch 24/50\n23/23 - 0s - loss: 3968.9644 - val_loss: 3454.9729 - 138ms/epoch - 6ms/step\nEpoch 25/50\n23/23 - 0s - loss: 3860.9631 - val_loss: 3350.5483 - 116ms/epoch - 5ms/step\nEpoch 26/50\n23/23 - 0s - loss: 3752.4250 - val_loss: 3239.8662 - 137ms/epoch - 6ms/step\nEpoch 27/50\n23/23 - 0s - loss: 3649.3467 - val_loss: 3169.0757 - 138ms/epoch - 6ms/step\nEpoch 28/50\n23/23 - 0s - loss: 3548.6938 - val_loss: 3073.4102 - 116ms/epoch - 5ms/step\nEpoch 29/50\n23/23 - 0s - loss: 3452.8826 - val_loss: 2977.3462 - 133ms/epoch - 6ms/step\nEpoch 30/50\n23/23 - 0s - loss: 3357.4126 - val_loss: 2907.1736 - 118ms/epoch - 5ms/step\nEpoch 31/50\n23/23 - 0s - loss: 3260.9077 - val_loss: 2819.9277 - 118ms/epoch - 5ms/step\nEpoch 32/50\n23/23 - 0s - loss: 3172.5686 - val_loss: 2734.5332 - 141ms/epoch - 6ms/step\nEpoch 33/50\n23/23 - 0s - loss: 3083.8962 - val_loss: 2666.2920 - 118ms/epoch - 5ms/step\nEpoch 34/50\n23/23 - 0s - loss: 3004.5710 - val_loss: 2590.7810 - 135ms/epoch - 6ms/step\nEpoch 35/50\n23/23 - 0s - loss: 2914.3752 - val_loss: 2510.7729 - 137ms/epoch - 6ms/step\nEpoch 36/50\n23/23 - 0s - loss: 2837.4651 - val_loss: 2446.3232 - 135ms/epoch - 6ms/step\nEpoch 37/50\n23/23 - 0s - loss: 2757.6272 - val_loss: 2372.4163 - 118ms/epoch - 5ms/step\nEpoch 38/50\n23/23 - 0s - loss: 2678.8813 - val_loss: 2308.2102 - 135ms/epoch - 6ms/step\nEpoch 39/50\n23/23 - 0s - loss: 2603.0793 - val_loss: 2244.5706 - 118ms/epoch - 5ms/step\nEpoch 40/50\n23/23 - 0s - loss: 2524.1792 - val_loss: 2167.8379 - 124ms/epoch - 5ms/step\nEpoch 41/50\n23/23 - 0s - loss: 2445.6863 - val_loss: 2124.3909 - 135ms/epoch - 6ms/step\nEpoch 42/50\n23/23 - 0s - loss: 2374.4883 - val_loss: 2063.2942 - 134ms/epoch - 6ms/step\nEpoch 43/50\n23/23 - 0s - loss: 2305.6934 - val_loss: 1985.7330 - 117ms/epoch - 5ms/step\nEpoch 44/50\n23/23 - 0s - loss: 2232.7312 - val_loss: 1937.7595 - 135ms/epoch - 6ms/step\nEpoch 45/50\n23/23 - 0s - loss: 2171.3164 - val_loss: 1891.9636 - 160ms/epoch - 7ms/step\nEpoch 46/50\n23/23 - 0s - loss: 2102.3284 - val_loss: 1819.2533 - 115ms/epoch - 5ms/step\nEpoch 47/50\n23/23 - 0s - loss: 2037.5878 - val_loss: 1758.6970 - 122ms/epoch - 5ms/step\nEpoch 48/50\n23/23 - 0s - loss: 1975.4398 - val_loss: 1712.2310 - 115ms/epoch - 5ms/step\nEpoch 49/50\n23/23 - 0s - loss: 1912.6931 - val_loss: 1663.5441 - 116ms/epoch - 5ms/step\nEpoch 50/50\n23/23 - 0s - loss: 1852.6023 - val_loss: 1619.4928 - 119ms/epoch - 5ms/step\n"
                },
                {
                    "data": {
                        "text/plain": "<keras.callbacks.History at 0x7fbabd50c610>"
                    },
                    "execution_count": 39,
                    "metadata": {},
                    "output_type": "execute_result"
                }
            ],
            "source": "# build and fit the model\nmodel = regression_model(1)\nmodel.fit(X_train, y_train, validation_data=(X_test, y_test), epochs=50, verbose=2)"
        },
        {
            "cell_type": "code",
            "execution_count": 27,
            "metadata": {},
            "outputs": [
                {
                    "data": {
                        "text/plain": "157.77574440550706"
                    },
                    "execution_count": 27,
                    "metadata": {},
                    "output_type": "execute_result"
                }
            ],
            "source": "# use the model to predict concrete strength based on data from X_test\nprediction = model.predict(X_test)\n\n# evaluate the model using mean squared error\nmse = mean_squared_error(y_test, prediction)\nmse"
        },
        {
            "cell_type": "code",
            "execution_count": 40,
            "metadata": {},
            "outputs": [],
            "source": "# define a function to run the model 50 times, find its mean_squared_error, and compute overall mean and standard deviation of them \ndef run_model_50(X, y, num_epochs, num_hidden_layer):\n    # create a list that will hold all the mse's\\\n    mses = []\n    \n    for i in range(50):\n        # call train_test_split again so data is slightly different each time\n        X_train, X_test, y_train, y_test = train_test_split(X, y, test_size = 0.3, random_state = 4)\n        \n        # build and fit model (set verbose to 0 so the output is not inundated with each training iteration)\n        model = regression_model(num_hidden_layer)\n        model.fit(X_train, y_train, validation_data=(X_test, y_test), epochs=num_epochs, verbose=0)\n        \n        # predict concrete strength with model and compute mean squared error\n        prediction = model.predict(X_test)\n        mse = mean_squared_error(y_test, prediction)\n        \n        # append the mean squared error to list of mse's\n        mses.append(mse)\n    \n    print(\"The mean and standard deviation of the MSE's is {} and {} respectively.\".format(st.mean(mses), st.stdev(mses)))"
        },
        {
            "cell_type": "code",
            "execution_count": 41,
            "metadata": {},
            "outputs": [
                {
                    "name": "stdout",
                    "output_type": "stream",
                    "text": "The mean and standard deviation of the MSE's is 335.7479025194623 and 337.03434631984635 respectively.\n"
                }
            ],
            "source": "run_model_50(X, y, 50, 1)"
        },
        {
            "cell_type": "markdown",
            "metadata": {},
            "source": "## B. Normalize the data"
        },
        {
            "cell_type": "code",
            "execution_count": 33,
            "metadata": {},
            "outputs": [],
            "source": "X_norm = (X - X.mean()) / X.std()"
        },
        {
            "cell_type": "code",
            "execution_count": 42,
            "metadata": {},
            "outputs": [
                {
                    "name": "stdout",
                    "output_type": "stream",
                    "text": "The mean and standard deviation of the MSE's is 380.48172954338776 and 122.78103913466528 respectively.\n"
                }
            ],
            "source": "run_model_50(X_norm, y, 50, 1)"
        },
        {
            "cell_type": "markdown",
            "metadata": {},
            "source": "## C. Increase the number of epochs"
        },
        {
            "cell_type": "code",
            "execution_count": 43,
            "metadata": {},
            "outputs": [
                {
                    "name": "stdout",
                    "output_type": "stream",
                    "text": "The mean and standard deviation of the MSE's is 176.2652822493085 and 13.15365145911159 respectively.\n"
                }
            ],
            "source": "run_model_50(X_norm, y, 100, 1)"
        },
        {
            "cell_type": "markdown",
            "metadata": {},
            "source": "## D. Increase the number of hidden layers"
        },
        {
            "cell_type": "code",
            "execution_count": 44,
            "metadata": {
                "scrolled": true
            },
            "outputs": [
                {
                    "name": "stdout",
                    "output_type": "stream",
                    "text": "The mean and standard deviation of the MSE's is 98.41265028170542 and 26.409898141345604 respectively.\n"
                }
            ],
            "source": "run_model_50(X_norm, y, 100, 3)"
        },
        {
            "cell_type": "code",
            "execution_count": null,
            "metadata": {},
            "outputs": [],
            "source": ""
        }
    ],
    "metadata": {
        "kernelspec": {
            "display_name": "Python 3.9",
            "language": "python",
            "name": "python3"
        },
        "language_info": {
            "codemirror_mode": {
                "name": "ipython",
                "version": 3
            },
            "file_extension": ".py",
            "mimetype": "text/x-python",
            "name": "python",
            "nbconvert_exporter": "python",
            "pygments_lexer": "ipython3",
            "version": "3.9.12"
        }
    },
    "nbformat": 4,
    "nbformat_minor": 1
}